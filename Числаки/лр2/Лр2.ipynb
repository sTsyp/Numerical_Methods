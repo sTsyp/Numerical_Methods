{
 "cells": [
  {
   "cell_type": "markdown",
   "id": "95a0ac73",
   "metadata": {},
   "source": [
    "# Лабораторная работа 1"
   ]
  },
  {
   "cell_type": "markdown",
   "id": "0248ae08",
   "metadata": {},
   "source": [
    "## Задание 3.1.28 "
   ]
  },
  {
   "cell_type": "code",
   "execution_count": 39,
   "id": "f1984c84",
   "metadata": {},
   "outputs": [
    {
     "name": "stdout",
     "output_type": "stream",
     "text": [
      "m = 4\n",
      "d = [5.55546e-06 9.82988e-04 1.23874e-02 3.65618e-02 2.87233e-02]\n",
      "delta(x^m) = 0.036561836924562975\n",
      "delta(b^m) = 0.003571428571428622\n",
      "cond(A) = 126107266491.2072\n",
      "0.036561836924562975 <= 450383094.6114607\n",
      "delta(x^m) <= cond(A) * delta(b^m)\n"
     ]
    },
    {
     "data": {
      "image/png": "[encoded data removed]",
      "text/plain": [
       "<Figure size 600x500 with 1 Axes>"
      ]
     },
     "metadata": {},
     "output_type": "display_data"
    }
   ],
   "source": [
    "import numpy as np  # type: ignore\n",
    "import matplotlib.pyplot as plt  # type: ignore\n",
    "\n",
    "\n",
    "N, n = 28, 5\n",
    "C, b = np.zeros((n, n), dtype=float), np.full(n, fill_value=N, dtype=float)\n",
    "\n",
    "for i in range(n):\n",
    "    for j in range(n):\n",
    "        C[i, j] = 0.1 * N * (i + 1) * (j + 1)\n",
    "        \n",
    "A = 500 / (8 * C - 5) ** 2\n",
    "\n",
    "x = np.linalg.solve(A, b)\n",
    "\n",
    "cond_value = np.linalg.cond(np.abs(A), p=np.inf)\n",
    "delta = 0.1\n",
    "\n",
    "x_modified = np.empty((n, n))\n",
    "for i in range(n):\n",
    "    b_modified = b.copy()\n",
    "    b_modified[i] += delta\n",
    "    x_modified[i] = np.linalg.solve(A, b_modified)\n",
    "d = np.array([np.linalg.norm(x - x_i, ord=np.inf) / np.linalg.norm(x, ord=np.inf)\n",
    "              for x_i in x_modified])\n",
    "\n",
    "plt.figure(figsize=(6, 5))\n",
    "plt.bar(range(n), d)\n",
    "plt.xlabel('')\n",
    "\n",
    "d_argmax = np.argmax(d)\n",
    "b_modified = b.copy()\n",
    "b_modified[d_argmax] += delta\n",
    "\n",
    "\n",
    "with np.printoptions(precision=5):\n",
    "    rel_delta = (np.linalg.norm(b_modified - b, ord=np.inf)\n",
    "                 / np.linalg.norm(b, ord=np.inf))\n",
    "    print(f'm = {d_argmax + 1}')\n",
    "    print(f'd = {d}')\n",
    "    print(f'delta(x^m) = {d[d_argmax]}')\n",
    "    print(f'delta(b^m) = {rel_delta}')\n",
    "    print(f'cond(A) = {cond_value}')\n",
    "    cmp_sign = '<=' if d[d_argmax] <= rel_delta * cond_value else '>'\n",
    "    print(f'{d[d_argmax]} {cmp_sign} {rel_delta * cond_value}')\n",
    "    print(f'delta(x^m) {cmp_sign} cond(A) * delta(b^m)')"
   ]
  },
  {
   "cell_type": "markdown",
   "id": "5bc7f374",
   "metadata": {},
   "source": [
    "## Задание 3.2"
   ]
  },
  {
   "cell_type": "code",
   "execution_count": 11,
   "id": "7fac2c5b",
   "metadata": {},
   "outputs": [
    {
     "name": "stdout",
     "output_type": "stream",
     "text": [
      "i, j = (0, 4)\n",
      "delta(x^h) = 1.0137504431483713\n",
      "delta(A^h) = 0.04525109116788567\n",
      "cond(A) = 126107266491.2072\n",
      "1.0137504431483713 <= 5706491412.926471\n",
      "delta(x^h) <= cond(A) * delta(A^h)\n"
     ]
    },
    {
     "data": {
      "image/png": "[encoded data removed]",
      "text/plain": [
       "<Figure size 1000x500 with 1 Axes>"
      ]
     },
     "metadata": {},
     "output_type": "display_data"
    }
   ],
   "source": [
    "import numpy as np\n",
    "import matplotlib.pyplot as plt\n",
    "\n",
    "N, n = 28, 5\n",
    "\n",
    "C = np.zeros((n, n), dtype=float)\n",
    "for i in range(n):\n",
    "    for j in range(n):\n",
    "        C[i, j] = 0.1 * N * (i + 1) * (j + 1)\n",
    "\n",
    "A = 500 / (8 * C - 5) ** 2\n",
    "b = np.full(n, fill_value=N, dtype=float)\n",
    "\n",
    "x = np.linalg.solve(A, b)\n",
    "cond_value = np.linalg.cond(A, p=np.inf)\n",
    "\n",
    "delta = 0.1\n",
    "x_modified = {}\n",
    "for i in range(n):\n",
    "    for j in range(n):\n",
    "        A_modified = A.copy()\n",
    "        A_modified[i, j] += delta\n",
    "        x_modified[(i, j)] = np.linalg.solve(A_modified, b)\n",
    "        \n",
    "d = {key: np.linalg.norm(x - x_i, ord=np.inf) / np.linalg.norm(x, ord=np.inf)\n",
    "     for key, x_i in x_modified.items()}\n",
    "\n",
    "plt.figure(figsize=(10, 5))\n",
    "plt.bar([str(el) for el in d.keys()], d.values())\n",
    "plt.xlabel('')\n",
    "plt.xticks(rotation=90)\n",
    "\n",
    "d_i, d_j = max(d, key=d.get)  # Получаем индексы максимальной погрешности\n",
    "A_modified = A.copy()\n",
    "A_modified[d_i, d_j] += delta\n",
    "rel_delta = (np.linalg.norm(A_modified - A, ord=np.inf)\n",
    "             / np.linalg.norm(A, ord=np.inf))\n",
    "cmp_sign = '<=' if d[(d_i, d_j)] <= rel_delta * cond_value else '>'\n",
    "\n",
    "print(f'i, j = {d_i, d_j}')\n",
    "print(f'delta(x^h) = {d[(d_i, d_j)]}')\n",
    "print(f'delta(A^h) = {rel_delta}')\n",
    "print(f'cond(A) = {cond_value}')\n",
    "print(f'{d[(d_i, d_j)]} {cmp_sign} {rel_delta * cond_value}')\n",
    "print(f'delta(x^h) {cmp_sign} cond(A) * delta(A^h)')\n"
   ]
  },
  {
   "cell_type": "markdown",
   "id": "f00fed08",
   "metadata": {},
   "source": [
    "## Задание 3.10.6"
   ]
  },
  {
   "cell_type": "code",
   "execution_count": 43,
   "id": "cd24ff11",
   "metadata": {},
   "outputs": [
    {
     "name": "stdout",
     "output_type": "stream",
     "text": [
      "Решение x: [ 5.34580856e+07 -3.74658662e+07  2.62590712e+07 -1.84044004e+07\n",
      "  1.28992483e+07 -9.04080017e+06  6.33650169e+06 -4.44111486e+06\n",
      "  3.11268154e+06 -2.18160960e+06  1.52904295e+06 -1.07167153e+06\n",
      "  7.51110841e+05 -5.26435141e+05  3.68965360e+05 -2.58596157e+05\n",
      "  1.81240576e+05 -1.27020770e+05  8.90176816e+04 -6.23772657e+04\n",
      "  4.37011835e+04 -3.06027019e+04  2.14122206e+04 -1.49539406e+04\n",
      "  1.04059515e+04 -7.18509923e+03  4.88278302e+03 -3.20250322e+03\n",
      "  1.93236067e+03 -9.07584910e+02]\n"
     ]
    }
   ],
   "source": [
    "import numpy as np\n",
    "\n",
    "n = 30\n",
    "\n",
    "# Инициализация векторов для коэффициентов прогона\n",
    "alpha = np.zeros(n-1)\n",
    "beta = np.zeros(n)\n",
    "\n",
    "# Инициализация массивов для матрицы A и вектора b\n",
    "A = np.zeros((n, n))\n",
    "b = np.zeros(n)\n",
    "\n",
    "# Заполнение матрицы A и вектора b\n",
    "for i in range(n):\n",
    "    b[i] = (i+1) * np.exp(22/(i+1))\n",
    "    A[i, i] = 100\n",
    "    if i < n-1:\n",
    "        A[i, i+1] = 47\n",
    "        A[i+1, i] = 47\n",
    "    if i < n-20:\n",
    "        A[i, i+20] = 1\n",
    "        A[i+20, i] = 1\n",
    "\n",
    "# Прямой ход (нахождение прогоночных коэффициентов)\n",
    "alpha[0] = -A[0, 1] / A[0, 0]\n",
    "beta[0] = b[0] / A[0, 0]\n",
    "for i in range(1, n-1):\n",
    "    alpha[i] = -A[i, i+1] / (A[i, i] + A[i, i-1] * alpha[i-1])\n",
    "    beta[i] = (b[i] - A[i, i-1] * beta[i-1]) / (A[i, i] + A[i, i-1] * alpha[i-1])\n",
    "\n",
    "# Обратный ход (нахождение решения x)\n",
    "x = np.zeros(n)\n",
    "x[n-1] = (b[n-1] - A[n-1, n-2] * beta[n-2]) / (A[n-1, n-1] + A[n-1, n-2] * alpha[n-2])\n",
    "for i in range(n-2, -1, -1):\n",
    "    x[i] = alpha[i] * x[i+1] + beta[i]\n",
    "\n",
    "print(\"Решение x:\", x)\n"
   ]
  },
  {
   "cell_type": "code",
   "execution_count": 44,
   "id": "c2f97268",
   "metadata": {},
   "outputs": [
    {
     "name": "stdout",
     "output_type": "stream",
     "text": [
      "Проверка решения:\n",
      "Вектор b (заданный): [3.58491285e+09 1.19748283e+05 4.59142458e+03 9.78767729e+02\n",
      " 4.07254343e+02 2.34727704e+02 1.62189806e+02 1.25141055e+02\n",
      " 1.03717310e+02 9.02501350e+01 8.12796171e+01 7.50564114e+01\n",
      " 7.06160213e+01 6.73892764e+01 6.50214274e+01 6.32812276e+01\n",
      " 6.20121908e+01 6.11050174e+01 6.04812691e+01 6.00833205e+01\n",
      " 5.98679609e+01 5.98022002e+01 5.98604461e+01 6.00225603e+01\n",
      " 6.02724927e+01 6.05973028e+01 6.09864483e+01 6.14312581e+01\n",
      " 6.19245383e+01 6.24602725e+01]\n",
      "Вектор b (вычисленный): [ 3.58495655e+09  8.91455816e+04  2.60036452e+04 -1.39751729e+04\n",
      "  1.08132058e+04 -6.95037153e+03  5.04497282e+03 -3.07736216e+03\n",
      "  2.03607798e+03 -8.17334775e+02  8.12796171e+01  7.50564114e+01\n",
      "  7.06160213e+01  6.73892764e+01  6.50214274e+01  6.32812276e+01\n",
      "  6.20121908e+01  6.11050174e+01  6.04812691e+01  6.00833205e+01\n",
      "  5.34581455e+07 -3.74658064e+07  2.62591311e+07 -1.84043404e+07\n",
      "  1.28993086e+07 -9.04073957e+06  6.33656267e+06 -4.44105343e+06\n",
      "  3.11274346e+06 -2.18154714e+06]\n",
      "Относительная ошибка: 0.020897141886326014\n"
     ]
    }
   ],
   "source": [
    "# Проверка решения\n",
    "b_calculated = np.dot(A, x)\n",
    "\n",
    "# Вычисление относительной ошибки\n",
    "relative_error = np.linalg.norm(b - b_calculated) / np.linalg.norm(b)\n",
    "\n",
    "print(\"Проверка решения:\")\n",
    "print(\"Вектор b (заданный):\", b)\n",
    "print(\"Вектор b (вычисленный):\", b_calculated)\n",
    "print(\"Относительная ошибка:\", relative_error)\n"
   ]
  },
  {
   "cell_type": "code",
   "execution_count": null,
   "id": "153ec098",
   "metadata": {},
   "outputs": [],
   "source": []
  }
 ],
 "metadata": {
  "kernelspec": {
   "display_name": "Python 3 (ipykernel)",
   "language": "python",
   "name": "python3"
  },
  "language_info": {
   "codemirror_mode": {
    "name": "ipython",
    "version": 3
   },
   "file_extension": ".py",
   "mimetype": "text/x-python",
   "name": "python",
   "nbconvert_exporter": "python",
   "pygments_lexer": "ipython3",
   "version": "3.9.18"
  }
 },
 "nbformat": 4,
 "nbformat_minor": 5
}
