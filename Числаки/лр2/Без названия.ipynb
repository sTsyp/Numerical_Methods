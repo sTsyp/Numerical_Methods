{
 "cells": [
  {
   "cell_type": "markdown",
   "id": "5bec9123",
   "metadata": {},
   "source": [
    "## Задание 3.1.28"
   ]
  },
  {
   "cell_type": "code",
   "execution_count": null,
   "id": "834d90cc",
   "metadata": {},
   "outputs": [],
   "source": [
    "3. Принимая решение x, полученное в п. 1, за точное, вычислить вектор d = (d1,...,dn)^T, di=(||x-x^i||∞)/(||x||∞), i=1,...,n относительных погрешностей решений x^i\n",
    "Ax^i=b^i, i=1,...,n, где компоненты векторов b^i вычисляются по формулам: bk^i = bk + Δ, k=i & bk^i = bk, k!=i k=1,...,n (Δ-произвольная величина погрешности).\n",
    "4. На основе вычисленного вектора d построить гистограмму. По гистограмме определить компоненту bm вектора b, которая оказывает наибольшее влияние на погрешность решения. \n",
    "5)5. Оценить теоретически погрешность решения x^m по формуле: δ(x^m) <= cond (A) δ(b^m). Сравнить значение δ(b^m) со значением практической погрешности dm \n",
    "УКАЗАНИЕ. Пусть функция cond(A) возвращает число обусловленности матрицы A, основанное на ∞-норме. Для вычисления || || ∞ вектора удобно воспользоваться встроенной функцией, возвращающей максимальную компоненту вектора v"
   ]
  },
  {
   "cell_type": "code",
   "execution_count": 63,
   "id": "b45c2132",
   "metadata": {},
   "outputs": [
    {
     "name": "stdout",
     "output_type": "stream",
     "text": [
      "Матрица A:\n",
      "[[30.8  5.6  8.4 11.2 14. ]\n",
      " [ 5.6 39.2 16.8 22.4 28. ]\n",
      " [ 8.4 16.8 53.2 33.6 42. ]\n",
      " [11.2 22.4 33.6 72.8 56. ]\n",
      " [14.  28.  42.  56.  98. ]]\n",
      "\n",
      "Вектор b:\n",
      "[0.00858016 0.00525023 0.00282639 0.00149974 0.00082394]\n",
      "\n",
      "Решение x:\n",
      "[ 2.85731909e-04  1.46103265e-04  3.88350416e-05 -2.92475514e-05\n",
      " -7.40857956e-05]\n"
     ]
    }
   ],
   "source": [
    "import numpy as np\n",
    "\n",
    "# Задаем размерность системы\n",
    "N = 28\n",
    "n = 5\n",
    "\n",
    "# Создаем матрицу системы A\n",
    "A = np.zeros((n, n))\n",
    "for i in range(n):\n",
    "    for j in range(n):\n",
    "        A[i, j] = 0.1 * N * (i + 1) * (j + 1)\n",
    "        if i == j:\n",
    "            A[i, j] += N\n",
    "\n",
    "# Создаем вектор правой части b\n",
    "b = np.zeros(n)\n",
    "for i in range(n):\n",
    "    b[i] = 500 / ((8 * A[i, i] - 5) ** 2)\n",
    "\n",
    "# Решаем систему методом Гаусса\n",
    "x = np.linalg.solve(A, b)\n",
    "\n",
    "print(\"Матрица A:\")\n",
    "print(A)\n",
    "print(\"\\nВектор b:\")\n",
    "print(b)\n",
    "print(\"\\nРешение x:\")\n",
    "print(x)\n"
   ]
  },
  {
   "cell_type": "code",
   "execution_count": 64,
   "id": "0bc95d16",
   "metadata": {},
   "outputs": [
    {
     "name": "stdout",
     "output_type": "stream",
     "text": [
      "Число обусловленности матрицы A: 12.161538461538461\n"
     ]
    }
   ],
   "source": [
    "# Вычисляем число обусловленности матрицы A\n",
    "cond_A = np.linalg.cond(np.abs(A), p=np.inf)\n",
    "\n",
    "print(\"Число обусловленности матрицы A:\", cond_A)\n"
   ]
  },
  {
   "cell_type": "code",
   "execution_count": 41,
   "id": "c2cf537c",
   "metadata": {},
   "outputs": [
    {
     "name": "stdout",
     "output_type": "stream",
     "text": [
      "Вектор относительных погрешностей d:\n",
      "[1.23069332e-04 1.17300457e-04 1.07685666e-04 9.42249574e-05\n",
      " 7.69183326e-05]\n"
     ]
    }
   ],
   "source": [
    "# Задаем произвольную величину погрешности\n",
    "delta = 1e-6\n",
    "\n",
    "# Создаем пустой вектор для хранения относительных погрешностей\n",
    "d = np.zeros(n)\n",
    "\n",
    "# Для каждого уравнения находим решение с небольшой погрешностью в правой части\n",
    "for i in range(n):\n",
    "    # Создаем вектор правой части b^i\n",
    "    b_perturbed = np.copy(b)\n",
    "    b_perturbed[i] += delta\n",
    "    \n",
    "    # Решаем систему с измененным вектором b\n",
    "    x_perturbed = np.linalg.solve(A, b_perturbed)\n",
    "    \n",
    "    # Вычисляем относительную погрешность для i-го решения\n",
    "    d[i] = np.linalg.norm(x_perturbed - x, ord=np.inf) / np.linalg.norm(x, ord=np.inf)\n",
    "\n",
    "print(\"Вектор относительных погрешностей d:\")\n",
    "print(d)\n"
   ]
  },
  {
   "cell_type": "code",
   "execution_count": 42,
   "id": "3c88b8b1",
   "metadata": {},
   "outputs": [
    {
     "data": {
      "image/png": "[encoded data removed]",
      "text/plain": [
       "<Figure size 640x480 with 1 Axes>"
      ]
     },
     "metadata": {},
     "output_type": "display_data"
    }
   ],
   "source": [
    "import matplotlib.pyplot as plt\n",
    "\n",
    "# Создаем массив индексов для компонент вектора b\n",
    "indices = np.arange(n)\n",
    "\n",
    "# Строим гистограмму\n",
    "plt.bar(indices, d, align='center', alpha=0.7)\n",
    "plt.xlabel('Компонента b')\n",
    "plt.ylabel('Относительная погрешность d')\n",
    "plt.title('Гистограмма относительных погрешностей')\n",
    "plt.xticks(indices)\n",
    "plt.show()\n"
   ]
  },
  {
   "cell_type": "code",
   "execution_count": 43,
   "id": "9c9e804a",
   "metadata": {},
   "outputs": [
    {
     "name": "stdout",
     "output_type": "stream",
     "text": [
      "Компонента b, которая оказывает наибольшее влияние на погрешность решения: 0\n",
      "Значение относительной погрешности для данной компоненты: 0.00012306933217557615\n"
     ]
    }
   ],
   "source": [
    "# Находим индекс компоненты b, которая оказывает наибольшее влияние на погрешность решения\n",
    "m = np.argmax(d)\n",
    "\n",
    "print(\"Компонента b, которая оказывает наибольшее влияние на погрешность решения:\", m)\n",
    "print(\"Значение относительной погрешности для данной компоненты:\", d[m])\n"
   ]
  },
  {
   "cell_type": "code",
   "execution_count": 44,
   "id": "f88265ad",
   "metadata": {},
   "outputs": [
    {
     "name": "stdout",
     "output_type": "stream",
     "text": [
      "Число обусловленности матрицы A: 12.161538461538461\n",
      "Практическая погрешность delta(b^m): 1e-06\n",
      "Теоретическая погрешность решения x^m: 1.216153846153846e-05\n"
     ]
    }
   ],
   "source": [
    "# Вычисляем численное значение числа обусловленности матрицы A\n",
    "cond_A = np.linalg.cond(A, p=np.inf)\n",
    "\n",
    "# Вычисляем практическую погрешность delta(b^m)\n",
    "delta_bm = np.max(np.abs(delta))\n",
    "\n",
    "# Оцениваем теоретическую погрешность решения x^m\n",
    "theoretical_error = cond_A * delta_bm\n",
    "\n",
    "print(\"Число обусловленности матрицы A:\", cond_A)\n",
    "print(\"Практическая погрешность delta(b^m):\", delta_bm)\n",
    "print(\"Теоретическая погрешность решения x^m:\", theoretical_error)"
   ]
  },
  {
   "cell_type": "markdown",
   "id": "870f003e",
   "metadata": {},
   "source": [
    "## Задание 3.2"
   ]
  },
  {
   "cell_type": "code",
   "execution_count": 45,
   "id": "f6fece4b",
   "metadata": {},
   "outputs": [
    {
     "name": "stdout",
     "output_type": "stream",
     "text": [
      "Число обусловленности матрицы A: 12.161538461538461\n",
      "Практическая погрешность delta(A*): 1e-06\n",
      "Теоретическая погрешность решения x*: 1.216153846153846e-05\n"
     ]
    }
   ],
   "source": [
    "# Задаем произвольную величину погрешности для матрицы A\n",
    "delta_A = 1e-6\n",
    "\n",
    "# Создаем возмущенную матрицу A*\n",
    "A_perturbed = A + delta_A\n",
    "\n",
    "# Вычисляем численное значение числа обусловленности матрицы A\n",
    "cond_A = np.linalg.cond(A, p=np.inf)\n",
    "\n",
    "# Оцениваем теоретическую погрешность решения x*\n",
    "theoretical_error_A = cond_A * delta_A\n",
    "\n",
    "print(\"Число обусловленности матрицы A:\", cond_A)\n",
    "print(\"Практическая погрешность delta(A*):\", delta_A)\n",
    "print(\"Теоретическая погрешность решения x*:\", theoretical_error_A)\n"
   ]
  },
  {
   "cell_type": "markdown",
   "id": "cdc2422e",
   "metadata": {},
   "source": [
    "## Задание 3.10.6"
   ]
  },
  {
   "cell_type": "code",
   "execution_count": 57,
   "id": "7b5339d1",
   "metadata": {},
   "outputs": [
    {
     "name": "stdout",
     "output_type": "stream",
     "text": [
      "Решение x: [ 5.34580856e+07 -3.74658662e+07  2.62590712e+07 -1.84044004e+07\n",
      "  1.28992483e+07 -9.04080017e+06  6.33650169e+06 -4.44111486e+06\n",
      "  3.11268154e+06 -2.18160960e+06  1.52904295e+06 -1.07167153e+06\n",
      "  7.51110841e+05 -5.26435141e+05  3.68965360e+05 -2.58596157e+05\n",
      "  1.81240576e+05 -1.27020770e+05  8.90176816e+04 -6.23772657e+04\n",
      "  4.37011835e+04 -3.06027019e+04  2.14122206e+04 -1.49539406e+04\n",
      "  1.04059515e+04 -7.18509923e+03  4.88278302e+03 -3.20250322e+03\n",
      "  1.93236067e+03 -9.07584910e+02]\n"
     ]
    }
   ],
   "source": [
    "import numpy as np\n",
    "\n",
    "n = 30\n",
    "\n",
    "# Инициализация векторов для коэффициентов прогона\n",
    "alpha = np.zeros(n-1)\n",
    "beta = np.zeros(n)\n",
    "\n",
    "# Инициализация массивов для матрицы A и вектора b\n",
    "A = np.zeros((n, n))\n",
    "b = np.zeros(n)\n",
    "\n",
    "# Заполнение матрицы A и вектора b\n",
    "for i in range(n):\n",
    "    b[i] = (i+1) * np.exp(22/(i+1))\n",
    "    A[i, i] = 100\n",
    "    if i < n-1:\n",
    "        A[i, i+1] = 47\n",
    "        A[i+1, i] = 47\n",
    "    if i < n-20:\n",
    "        A[i, i+20] = 1\n",
    "        A[i+20, i] = 1\n",
    "\n",
    "# Прямой ход (нахождение прогоночных коэффициентов)\n",
    "alpha[0] = -A[0, 1] / A[0, 0]\n",
    "beta[0] = b[0] / A[0, 0]\n",
    "for i in range(1, n-1):\n",
    "    alpha[i] = -A[i, i+1] / (A[i, i] + A[i, i-1] * alpha[i-1])\n",
    "    beta[i] = (b[i] - A[i, i-1] * beta[i-1]) / (A[i, i] + A[i, i-1] * alpha[i-1])\n",
    "\n",
    "# Обратный ход (нахождение решения x)\n",
    "x = np.zeros(n)\n",
    "x[n-1] = (b[n-1] - A[n-1, n-2] * beta[n-2]) / (A[n-1, n-1] + A[n-1, n-2] * alpha[n-2])\n",
    "for i in range(n-2, -1, -1):\n",
    "    x[i] = alpha[i] * x[i+1] + beta[i]\n",
    "\n",
    "print(\"Решение x:\", x)\n"
   ]
  },
  {
   "cell_type": "code",
   "execution_count": 58,
   "id": "11470498",
   "metadata": {},
   "outputs": [
    {
     "name": "stdout",
     "output_type": "stream",
     "text": [
      "Проверка решения:\n",
      "Вектор b (заданный): [3.58491285e+09 1.19748283e+05 4.59142458e+03 9.78767729e+02\n",
      " 4.07254343e+02 2.34727704e+02 1.62189806e+02 1.25141055e+02\n",
      " 1.03717310e+02 9.02501350e+01 8.12796171e+01 7.50564114e+01\n",
      " 7.06160213e+01 6.73892764e+01 6.50214274e+01 6.32812276e+01\n",
      " 6.20121908e+01 6.11050174e+01 6.04812691e+01 6.00833205e+01\n",
      " 5.98679609e+01 5.98022002e+01 5.98604461e+01 6.00225603e+01\n",
      " 6.02724927e+01 6.05973028e+01 6.09864483e+01 6.14312581e+01\n",
      " 6.19245383e+01 6.24602725e+01]\n",
      "Вектор b (вычисленный): [ 3.58495655e+09  8.91455816e+04  2.60036452e+04 -1.39751729e+04\n",
      "  1.08132058e+04 -6.95037153e+03  5.04497282e+03 -3.07736216e+03\n",
      "  2.03607798e+03 -8.17334775e+02  8.12796171e+01  7.50564114e+01\n",
      "  7.06160213e+01  6.73892764e+01  6.50214274e+01  6.32812276e+01\n",
      "  6.20121908e+01  6.11050174e+01  6.04812691e+01  6.00833205e+01\n",
      "  5.34581455e+07 -3.74658064e+07  2.62591311e+07 -1.84043404e+07\n",
      "  1.28993086e+07 -9.04073957e+06  6.33656267e+06 -4.44105343e+06\n",
      "  3.11274346e+06 -2.18154714e+06]\n",
      "Относительная ошибка: 0.020897141886326014\n"
     ]
    }
   ],
   "source": [
    "# Проверка решения\n",
    "b_calculated = np.dot(A, x)\n",
    "\n",
    "# Вычисление относительной ошибки\n",
    "relative_error = np.linalg.norm(b - b_calculated) / np.linalg.norm(b)\n",
    "\n",
    "print(\"Проверка решения:\")\n",
    "print(\"Вектор b (заданный):\", b)\n",
    "print(\"Вектор b (вычисленный):\", b_calculated)\n",
    "print(\"Относительная ошибка:\", relative_error)\n"
   ]
  },
  {
   "cell_type": "code",
   "execution_count": null,
   "id": "e02e4a53",
   "metadata": {},
   "outputs": [],
   "source": []
  }
 ],
 "metadata": {
  "kernelspec": {
   "display_name": "Python 3 (ipykernel)",
   "language": "python",
   "name": "python3"
  },
  "language_info": {
   "codemirror_mode": {
    "name": "ipython",
    "version": 3
   },
   "file_extension": ".py",
   "mimetype": "text/x-python",
   "name": "python",
   "nbconvert_exporter": "python",
   "pygments_lexer": "ipython3",
   "version": "3.9.18"
  }
 },
 "nbformat": 4,
 "nbformat_minor": 5
}
