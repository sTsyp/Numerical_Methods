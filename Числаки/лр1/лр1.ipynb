{
 "cells": [
  {
   "cell_type": "markdown",
   "id": "1bb8fb63",
   "metadata": {},
   "source": [
    "# Лабораторная работа №1"
   ]
  },
  {
   "cell_type": "markdown",
   "id": "07af244c",
   "metadata": {},
   "source": [
    "## №1.1.28"
   ]
  },
  {
   "cell_type": "code",
   "execution_count": 67,
   "id": "0116ce46",
   "metadata": {},
   "outputs": [
    {
     "name": "stdout",
     "output_type": "stream",
     "text": [
      "Результаты вычислительного эксперимента:\n",
      "S(10) = 21.3714285714286\n",
      "Абсолютная погрешность: 6.62857142857143\n",
      "\n",
      "S(100) = 27.0813186813187\n",
      "Абсолютная погрешность: 0.918681318681319\n",
      "\n",
      "S(1000) = 27.9044300410299\n",
      "Абсолютная погрешность: 0.0955699589700885\n",
      "\n",
      "S(10000) = 27.9904043180329\n",
      "Абсолютная погрешность: 0.00959568196709171\n",
      "\n",
      "S(100000) = 27.9990400431980\n",
      "Абсолютная погрешность: 0.000959956801967365\n",
      "\n",
      "Сумма ряда: 28\n"
     ]
    },
    {
     "data": {
      "image/png": "[encoded data removed]",
      "text/plain": [
       "<Figure size 640x480 with 1 Axes>"
      ]
     },
     "metadata": {},
     "output_type": "display_data"
    },
    {
     "name": "stdout",
     "output_type": "stream",
     "text": [
      "Сумма ряда: 28\n"
     ]
    }
   ],
   "source": [
    "import sympy as sp\n",
    "\n",
    "# Символическая переменная\n",
    "n = sp.symbols('n')\n",
    "\n",
    "# Функция для вычисления аналитической суммы\n",
    "S_analytical = 28\n",
    "\n",
    "# Функция для вычисления частичной суммы ряда\n",
    "def S_N(N):\n",
    "    return sp.summation(96 / (n**2 + 8*n + 15), (n, 0, N))\n",
    "\n",
    "# Вычисление частичных сумм для N = 10, 10^2, 10^3, 10^4, 10^5\n",
    "N_values = [10, 10**2, 10**3, 10**4, 10**5]\n",
    "S_partial = [S_N(N) for N in N_values]\n",
    "\n",
    "# Вычисление абсолютных погрешностей\n",
    "abs_errors = [abs(S_N_value.evalf() - S_analytical) for S_N_value in S_partial]\n",
    "\n",
    "\n",
    "# Вывод результатов\n",
    "print(\"Результаты вычислительного эксперимента:\")\n",
    "for N, S_N_value, abs_error, correct_digits_value in zip(N_values, S_partial, abs_errors, correct_digits):\n",
    "    print(f\"S({N}) = {S_N_value.evalf()}\")\n",
    "    print(f\"Абсолютная погрешность: {abs_error}\")\n",
    "    print()\n",
    "\n",
    "M = [1, 2, 3, 4 ,5]\n",
    "N = [10, 100, 1000, 10000, 10000]\n",
    "i_values = [1, 2, 3, 4 ,5]\n",
    "# Вывод суммы ряда\n",
    "print(f\"Сумма ряда: {S_analytical}\")\n",
    "\n",
    "# Построение гистограммы\n",
    "plt.bar(i_values, M , color='blue')\n",
    "plt.xlabel('Значение N')\n",
    "plt.ylabel('Количество верных цифр (Mi)')\n",
    "plt.title('Гистограмма количества верных цифр')\n",
    "plt.show()\n",
    "\n",
    "# Вывод суммы ряда\n",
    "print(f\"Сумма ряда: {S_analytical}\")\n"
   ]
  },
  {
   "cell_type": "markdown",
   "id": "ad7ef8e6",
   "metadata": {},
   "source": [
    "## №1.5.1"
   ]
  },
  {
   "cell_type": "code",
   "execution_count": 40,
   "id": "41198230",
   "metadata": {},
   "outputs": [
    {
     "name": "stdout",
     "output_type": "stream",
     "text": [
      "Теоретическая оценка погрешности корней: 0.0370370370370370\n",
      "\n",
      "Для b = -39.6:\n",
      "Корень 1: -13.5000000000000\n",
      "Корень 2: 53.1000000000000\n",
      "\n",
      "Для b = -39.65:\n",
      "Корень 1: -13.4898709287609\n",
      "Корень 2: 53.1398709287609\n",
      "\n",
      "Для b = -39.55:\n",
      "Корень 1: -13.5101412044474\n",
      "Корень 2: 53.0601412044474\n"
     ]
    }
   ],
   "source": [
    "import sympy as sp\n",
    "\n",
    "# Заданные коэффициенты\n",
    "c = -716.85\n",
    "b_star = -39.6\n",
    "\n",
    "# Переменная\n",
    "x = sp.symbols('x')\n",
    "\n",
    "# Уравнение\n",
    "equation = x**2 + b_star*x + c\n",
    "\n",
    "# Теоретическая оценка погрешности\n",
    "delta_x_theoretical = abs(1 / (2 * sp.solve(equation, x)[0]) * 1)\n",
    "\n",
    "# Вывод теоретической оценки\n",
    "print(f\"Теоретическая оценка погрешности корней: {delta_x_theoretical}\")\n",
    "\n",
    "# Вычисление корней с различными значениями b\n",
    "b_values = [-39.6, -39.65, -39.55]  # Примеры значений b\n",
    "roots = []\n",
    "\n",
    "for b_value in b_values:\n",
    "    # Подстановка нового значения b\n",
    "    equation_new_b = x**2 + b_value*x + c\n",
    "    # Вычисление корней\n",
    "    roots.append(sp.solve(equation_new_b, x))\n",
    "\n",
    "# Вывод результатов\n",
    "for i, (b_value, roots_for_b) in enumerate(zip(b_values, roots), 1):\n",
    "    print(f\"\\nДля b = {b_value}:\")\n",
    "    for j, root in enumerate(roots_for_b, 1):\n",
    "        print(f\"Корень {j}: {root.evalf()}\")\n"
   ]
  },
  {
   "cell_type": "markdown",
   "id": "8ee4d2b3",
   "metadata": {},
   "source": [
    "## №1.7"
   ]
  },
  {
   "cell_type": "code",
   "execution_count": 43,
   "id": "ec73681f",
   "metadata": {},
   "outputs": [
    {
     "name": "stdout",
     "output_type": "stream",
     "text": [
      "Одинарная точность:\n",
      "Машинный нуль: 1.1754943508222875e-38\n",
      "Машинная бесконечность: 3.4028234663852886e+38\n",
      "Машинное эпсилон: 1.1920928955078125e-07\n",
      "\n",
      "Двойная точность:\n",
      "Машинный нуль: 2.2250738585072014e-308\n",
      "Машинная бесконечность: 1.7976931348623157e+308\n",
      "Машинное эпсилон: 2.220446049250313e-16\n",
      "\n",
      "Расширенная точность:\n",
      "Машинный нуль: 0.0\n",
      "Машинная бесконечность: inf\n",
      "Машинное эпсилон: 1.0842021724855044e-19\n"
     ]
    }
   ],
   "source": [
    "import numpy as np\n",
    "\n",
    "# Одинарная точность\n",
    "machine_zero_single = np.finfo(np.float32).tiny\n",
    "machine_infinity_single = np.finfo(np.float32).max\n",
    "machine_epsilon_single = np.finfo(np.float32).eps\n",
    "\n",
    "# Двойная точность\n",
    "machine_zero_double = np.finfo(np.float64).tiny\n",
    "machine_infinity_double = np.finfo(np.float64).max\n",
    "machine_epsilon_double = np.finfo(np.float64).eps\n",
    "\n",
    "# Расширенная точность (long double)\n",
    "machine_zero_extended = np.finfo(np.float128).tiny\n",
    "machine_infinity_extended = np.finfo(np.float128).max\n",
    "machine_epsilon_extended = np.finfo(np.float128).eps\n",
    "\n",
    "# Вывод результатов\n",
    "print(\"Одинарная точность:\")\n",
    "print(f\"Машинный нуль: {machine_zero_single}\")\n",
    "print(f\"Машинная бесконечность: {machine_infinity_single}\")\n",
    "print(f\"Машинное эпсилон: {machine_epsilon_single}\")\n",
    "\n",
    "print(\"\\nДвойная точность:\")\n",
    "print(f\"Машинный нуль: {machine_zero_double}\")\n",
    "print(f\"Машинная бесконечность: {machine_infinity_double}\")\n",
    "print(f\"Машинное эпсилон: {machine_epsilon_double}\")\n",
    "\n",
    "print(\"\\nРасширенная точность:\")\n",
    "print(f\"Машинный нуль: {machine_zero_extended}\")\n",
    "print(f\"Машинная бесконечность: {machine_infinity_extended}\")\n",
    "print(f\"Машинное эпсилон: {machine_epsilon_extended}\")\n"
   ]
  },
  {
   "cell_type": "code",
   "execution_count": null,
   "id": "a660d957",
   "metadata": {},
   "outputs": [],
   "source": [
    "#include <iostream>\n",
    "#include <limits>\n",
    "\n",
    "template <typename T>\n",
    "void printSpecialValues() {\n",
    "    // Машинный ноль\n",
    "    std::cout << \"Machine zero (\" << typeid(T).name() << \"): \" << std::numeric_limits<T>::min() << std::endl;\n",
    "\n",
    "    // Машинная бесконечность\n",
    "    std::cout << \"Machine infinity (\" << typeid(T).name() << \"): \" << std::numeric_limits<T>::max() << std::endl;\n",
    "\n",
    "    // Машинный эпсилон\n",
    "    std::cout << \"Machine epsilon (\" << typeid(T).name() << \"): \" << std::numeric_limits<T>::epsilon() << std::endl;\n",
    "}\n",
    "\n",
    "int main() {\n",
    "    std::cout << \"Single precision:\" << std::endl;\n",
    "    printSpecialValues<float>();\n",
    "\n",
    "    std::cout << \"\\nDouble precision:\" << std::endl;\n",
    "    printSpecialValues<double>();\n",
    "\n",
    "    std::cout << \"\\nExtended accuracy:\" << std::endl;\n",
    "    printSpecialValues<long double>();\n",
    "\n",
    "    return 0;\n",
    "}\n"
   ]
  },
  {
   "cell_type": "markdown",
   "id": "e711631b",
   "metadata": {},
   "source": [
    "## 1.10.4"
   ]
  },
  {
   "cell_type": "code",
   "execution_count": 10,
   "id": "5d4e1c41",
   "metadata": {},
   "outputs": [
    {
     "name": "stdout",
     "output_type": "stream",
     "text": [
      "Для точных координат:\n",
      "Векторы не компланарны.\n",
      "\n",
      "Для приближенных координат:\n",
      "Точность alpha = 0.005\n",
      "Минимальное значение определителя: -53.83750499999913\n",
      "Максимальное значение определителя: 101.92270499999944\n",
      "Векторы могут быть компланарны в пределах относительной погрешности.\n",
      "\n",
      "Точность beta = 0.001\n",
      "Минимальное значение определителя: 8.425703159999985\n",
      "Максимальное значение определителя: 39.57770483999854\n",
      "Векторы не компланарны в пределах относительной погрешности.\n"
     ]
    }
   ],
   "source": [
    "import numpy as np\n",
    "# Векторы\n",
    "a1 = np.array([9, 17, 1])\n",
    "a2 = np.array([27, 35, -18])\n",
    "a3 = np.array([6, 14, 4])\n",
    "\n",
    "# Матрица A\n",
    "A = np.vstack((a1, a2, a3))\n",
    "\n",
    "# Определитель матрицы A\n",
    "det_A = np.linalg.det(A)\n",
    "print(\"Для точных координат:\")\n",
    "# Проверка компланарности\n",
    "if det_A == 0:\n",
    "    print(\"Векторы компланарны.\\n\")\n",
    "else:\n",
    "    print(\"Векторы не компланарны.\\n\")\n",
    "\n",
    "def calculate_determinant_with_error(matrix, relative_error):\n",
    "    num_rows, num_cols = matrix.shape\n",
    "    determinants = []\n",
    "\n",
    "    for i in range(2 ** (num_rows * num_cols)):\n",
    "        binary_str = bin(i)[2:].zfill(num_rows * num_cols)\n",
    "        signs = np.array([1 if b == '0' else -1 for b in binary_str]).reshape((num_rows, num_cols))\n",
    "\n",
    "        perturbed_matrix = matrix * (1 + signs * relative_error)\n",
    "        determinants.append(np.linalg.det(perturbed_matrix))\n",
    "\n",
    "    min_det = min(determinants)\n",
    "    max_det = max(determinants)\n",
    "\n",
    "    return min_det, max_det\n",
    "\n",
    "# Векторы\n",
    "a1_exact = np.array([9, 17, 1])\n",
    "a2_exact = np.array([27, 35, -18])\n",
    "a3_exact = np.array([6, 14, 4])\n",
    "\n",
    "# Параметры относительной погрешности\n",
    "alpha = 0.005\n",
    "beta = 0.001\n",
    "\n",
    "# Создание матрицы из векторов\n",
    "matrix = np.vstack((a1_exact, a2_exact, a3_exact))\n",
    "\n",
    "# Вычисление определителя с учетом относительной погрешности\n",
    "min_det_a, max_det_a = calculate_determinant_with_error(matrix, alpha)\n",
    "min_det_b, max_det_b = calculate_determinant_with_error(matrix, beta)\n",
    "\n",
    "print(\"Для приближенных координат:\")\n",
    "print(\"Точность alpha = 0.005\")\n",
    "# Вывод результатов\n",
    "print(f\"Минимальное значение определителя: {min_det_a}\")\n",
    "print(f\"Максимальное значение определителя: {max_det_a}\")\n",
    "\n",
    "# Проверка компланарности\n",
    "if min_det_a * max_det_a <= 0:\n",
    "    print(\"Векторы могут быть компланарны в пределах относительной погрешности.\")\n",
    "else:\n",
    "    print(\"Векторы не компланарны в пределах относительной погрешности.\")\n",
    "\n",
    "print()\n",
    "print(\"Точность beta = 0.001\")\n",
    "# Вывод результатов\n",
    "print(f\"Минимальное значение определителя: {min_det_b}\")\n",
    "\n",
    "print(f\"Максимальное значение определителя: {max_det_b}\")\n",
    "\n",
    "# Проверка компланарности\n",
    "if min_det_b * max_det_b <= 0:\n",
    "    print(\"Векторы могут быть компланарны в пределах относительной погрешности.\")\n",
    "else:\n",
    "    print(\"Векторы не компланарны в пределах относительной погрешности.\")\n"
   ]
  },
  {
   "cell_type": "code",
   "execution_count": null,
   "id": "6aea144e",
   "metadata": {},
   "outputs": [],
   "source": []
  },
  {
   "cell_type": "code",
   "execution_count": null,
   "id": "97e0e3ca",
   "metadata": {},
   "outputs": [],
   "source": []
  },
  {
   "cell_type": "code",
   "execution_count": null,
   "id": "0d2c8c0e",
   "metadata": {},
   "outputs": [],
   "source": []
  }
 ],
 "metadata": {
  "kernelspec": {
   "display_name": "Python 3 (ipykernel)",
   "language": "python",
   "name": "python3"
  },
  "language_info": {
   "codemirror_mode": {
    "name": "ipython",
    "version": 3
   },
   "file_extension": ".py",
   "mimetype": "text/x-python",
   "name": "python",
   "nbconvert_exporter": "python",
   "pygments_lexer": "ipython3",
   "version": "3.9.18"
  }
 },
 "nbformat": 4,
 "nbformat_minor": 5
}
